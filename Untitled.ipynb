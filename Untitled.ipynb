{
 "cells": [
  {
   "cell_type": "markdown",
   "id": "a0ba1b08",
   "metadata": {},
   "source": [
    "# NtwoM"
   ]
  },
  {
   "cell_type": "markdown",
   "id": "7b68b1af",
   "metadata": {},
   "source": [
    "# Elaboración del tablero"
   ]
  },
  {
   "cell_type": "markdown",
   "id": "9f74af27",
   "metadata": {},
   "source": [
    "- Los simbolos **\"#\"** representan las casillas vacias del tablero del juego en una partida inicial.\n",
    "\n",
    "- El tablero sera recorrido de izquierda a derecha (direccion Horizontal) y de arriba hacia abajo (direccion vertical).\n",
    "- Las fichas seran representadas por un aspa **\"X\"** para el primer jugador y un circulo **\"O\"** para el segundo jugador.\n",
    "- Las posiciones para las fichas seran desde el \"0, 1, 2 ..., 23\".\n",
    "- Al momento de mover una ficha a una casilla adyacente libre se realizara de la forma: **Casilla_origen:Casilla_destino**.\n",
    "- Al momento de eliminar una ficha del oponente solo se ingresa la posicion de la ficha a eliminar.\n",
    "\n",
    "<img src=\"Tablero Nine Men's Morris.png\" alt=\"Drawing\" style=\"width: 500px;\"/>"
   ]
  },
  {
   "cell_type": "code",
   "execution_count": null,
   "id": "e8189553",
   "metadata": {},
   "outputs": [],
   "source": []
  }
 ],
 "metadata": {
  "kernelspec": {
   "display_name": "Python 3",
   "language": "python",
   "name": "python3"
  },
  "language_info": {
   "codemirror_mode": {
    "name": "ipython",
    "version": 3
   },
   "file_extension": ".py",
   "mimetype": "text/x-python",
   "name": "python",
   "nbconvert_exporter": "python",
   "pygments_lexer": "ipython3",
   "version": "3.8.8"
  }
 },
 "nbformat": 4,
 "nbformat_minor": 5
}
